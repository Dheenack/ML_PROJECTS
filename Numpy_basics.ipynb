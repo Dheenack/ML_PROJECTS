{
 "cells": [
  {
   "cell_type": "markdown",
   "id": "5ce508f9-0aa4-4147-9207-7c00783f0867",
   "metadata": {},
   "source": [
    "# numpy Basics"
   ]
  },
  {
   "cell_type": "code",
   "execution_count": 1,
   "id": "3b4289e0-94eb-41d3-acd4-1897568d2d58",
   "metadata": {},
   "outputs": [],
   "source": [
    "import numpy as np"
   ]
  },
  {
   "cell_type": "code",
   "execution_count": 2,
   "id": "c00da2da-1f1d-4eed-b813-43f1d0b8f386",
   "metadata": {},
   "outputs": [],
   "source": [
    "a=np.arange(2,10)"
   ]
  },
  {
   "cell_type": "code",
   "execution_count": 3,
   "id": "7416bf7b-a88f-4763-8260-a54a37ecb255",
   "metadata": {},
   "outputs": [
    {
     "name": "stdout",
     "output_type": "stream",
     "text": [
      "5\n"
     ]
    }
   ],
   "source": [
    "b=np.array([8,7,6,5,4,3,2],dtype=\"i\")\n",
    "c=a[2:5]\n",
    "print(c[1])"
   ]
  },
  {
   "cell_type": "code",
   "execution_count": 4,
   "id": "298ceef3-d9b3-4fd5-8800-1280f5fac676",
   "metadata": {},
   "outputs": [
    {
     "data": {
      "text/plain": [
       "(8,)"
      ]
     },
     "execution_count": 4,
     "metadata": {},
     "output_type": "execute_result"
    }
   ],
   "source": [
    "a.shape"
   ]
  },
  {
   "cell_type": "code",
   "execution_count": 5,
   "id": "c21a3b9b-0ef3-4c01-821b-ceacb6a94b48",
   "metadata": {},
   "outputs": [
    {
     "data": {
      "text/plain": [
       "dtype('int64')"
      ]
     },
     "execution_count": 5,
     "metadata": {},
     "output_type": "execute_result"
    }
   ],
   "source": [
    "d=a.reshape(4,2)\n",
    "d.dtype"
   ]
  },
  {
   "cell_type": "code",
   "execution_count": 6,
   "id": "e944427e-5e07-4693-a715-4aad866a8829",
   "metadata": {},
   "outputs": [
    {
     "data": {
      "text/plain": [
       "dtype('int64')"
      ]
     },
     "execution_count": 6,
     "metadata": {},
     "output_type": "execute_result"
    }
   ],
   "source": [
    "e=d.astype('int')\n",
    "e.dtype"
   ]
  },
  {
   "cell_type": "code",
   "execution_count": 7,
   "id": "0c581d0f-925b-4f5c-a62e-d0ffe450be3f",
   "metadata": {},
   "outputs": [],
   "source": [
    "e=np.concatenate((d,e))"
   ]
  },
  {
   "cell_type": "code",
   "execution_count": 8,
   "id": "fb5b3130-e7e0-4d0d-8266-7a859ca8f249",
   "metadata": {},
   "outputs": [
    {
     "data": {
      "text/plain": [
       "array([[2, 3],\n",
       "       [4, 5],\n",
       "       [6, 7],\n",
       "       [8, 9],\n",
       "       [2, 3],\n",
       "       [4, 5],\n",
       "       [6, 7],\n",
       "       [8, 9]])"
      ]
     },
     "execution_count": 8,
     "metadata": {},
     "output_type": "execute_result"
    }
   ],
   "source": [
    "e"
   ]
  },
  {
   "cell_type": "code",
   "execution_count": 9,
   "id": "78d3adaa-a7e5-4835-aae6-9e373b35326c",
   "metadata": {},
   "outputs": [
    {
     "data": {
      "text/plain": [
       "[array([[2, 3],\n",
       "        [4, 5],\n",
       "        [6, 7]]),\n",
       " array([[8, 9],\n",
       "        [2, 3],\n",
       "        [4, 5]]),\n",
       " array([[6, 7],\n",
       "        [8, 9]])]"
      ]
     },
     "execution_count": 9,
     "metadata": {},
     "output_type": "execute_result"
    }
   ],
   "source": [
    "q=np.array_split(e,3)\n",
    "q"
   ]
  },
  {
   "cell_type": "code",
   "execution_count": 10,
   "id": "0826dfea-7e60-47e1-94e2-fe8dded5a201",
   "metadata": {},
   "outputs": [
    {
     "data": {
      "text/plain": [
       "array([2.+0.j, 3.+0.j, 4.+0.j, 5.+0.j])"
      ]
     },
     "execution_count": 10,
     "metadata": {},
     "output_type": "execute_result"
    }
   ],
   "source": [
    "np.arange(2,6,dtype='complex')"
   ]
  },
  {
   "cell_type": "code",
   "execution_count": 11,
   "id": "6dbb57f1-f6f3-4353-8d79-5f07e027a6e6",
   "metadata": {},
   "outputs": [
    {
     "data": {
      "text/plain": [
       "153"
      ]
     },
     "execution_count": 11,
     "metadata": {},
     "output_type": "execute_result"
    }
   ],
   "source": [
    "np.random.randint(200)"
   ]
  },
  {
   "cell_type": "code",
   "execution_count": 12,
   "id": "3c09f02d-2724-4108-9f7f-0da23d92f54c",
   "metadata": {},
   "outputs": [
    {
     "data": {
      "text/plain": [
       "array([[ 25,   0,  39, 100],\n",
       "       [139, 141, 104, 112],\n",
       "       [ 18, 127,  58,  30],\n",
       "       [ 86,  78,  19,  32],\n",
       "       [ 88, 144, 108, 120]], dtype=int32)"
      ]
     },
     "execution_count": 12,
     "metadata": {},
     "output_type": "execute_result"
    }
   ],
   "source": [
    "np.random.randint(200,size=(5,4))"
   ]
  },
  {
   "cell_type": "code",
   "execution_count": 15,
   "id": "aed239d7-83bd-4b61-ba80-b9f1c07c901b",
   "metadata": {},
   "outputs": [
    {
     "data": {
      "text/plain": [
       "array([0.73366537, 0.34387027, 0.10451444, 0.10906263, 0.30277859,\n",
       "       0.26735695, 0.42888177, 0.23604289, 0.07382356, 0.33562535,\n",
       "       0.04511138, 0.58564326, 0.33518817, 0.59494608, 0.17689076,\n",
       "       0.2507346 , 0.84388016, 0.07066417, 0.890268  , 0.45964292,\n",
       "       0.73793783, 0.53254689])"
      ]
     },
     "execution_count": 15,
     "metadata": {},
     "output_type": "execute_result"
    }
   ],
   "source": [
    "np.random.rand(22)"
   ]
  }
 ],
 "metadata": {
  "kernelspec": {
   "display_name": "Python 3 (ipykernel)",
   "language": "python",
   "name": "python3"
  },
  "language_info": {
   "codemirror_mode": {
    "name": "ipython",
    "version": 3
   },
   "file_extension": ".py",
   "mimetype": "text/x-python",
   "name": "python",
   "nbconvert_exporter": "python",
   "pygments_lexer": "ipython3",
   "version": "3.11.9"
  }
 },
 "nbformat": 4,
 "nbformat_minor": 5
}
